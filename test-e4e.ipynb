{
 "cells": [
  {
   "cell_type": "code",
   "execution_count": null,
   "metadata": {},
   "outputs": [],
   "source": [
    "from argparse import Namespace\n",
    "from tqdm import tqdm\n",
    "from pathlib import Path\n",
    "import numpy as np\n",
    "from PIL import Image\n",
    "\n",
    "import torch\n",
    "\n",
    "from models.psp import pSp\n",
    "from utils.img_utils import preproc, postproc\n",
    "from utils.load_utils import load_network_pkl, blend_models"
   ]
  },
  {
   "cell_type": "code",
   "execution_count": null,
   "metadata": {},
   "outputs": [],
   "source": [
    "dataset_path = Path(\"/datasets/RD/photo_data/LHQ_256\")\n",
    "imgs = list(dataset_path.glob(\"train_imgs/*.png\"))\n",
    "imgs += list(dataset_path.glob(\"test_imgs/*.png\"))\n",
    "imgs = sorted(imgs)\n",
    "\n",
    "pretrain_path = \"weights/stylegan2-pretrained.pkl\"\n",
    "finetune_path = \"weights/stylegan2-finetuned.pkl\"\n",
    "ckpt_path = \"weights/lhq-e4e-encoder.pt\"\n",
    "\n",
    "blend_lv = 8\n",
    "\n",
    "seeds = range(0,90000,300)\n",
    "\n",
    "mainpath = Path(f\"imgs/e4e-imgs-{blend_lv}-v2\")\n",
    "mainpath.mkdir(parents=True, exist_ok=True)"
   ]
  },
  {
   "cell_type": "code",
   "execution_count": null,
   "metadata": {},
   "outputs": [],
   "source": [
    "with open(pretrain_path, 'rb') as f:\n",
    "    G_pretrain = load_network_pkl(f)['G_ema'].to(\"cuda\")\n",
    "with open(finetune_path, 'rb') as f:\n",
    "    G_finetune = load_network_pkl(f)['G_ema'].to(\"cuda\")\n",
    "\n",
    "G_blended = blend_models(G_pretrain, G_finetune, blend_lv)"
   ]
  },
  {
   "cell_type": "code",
   "execution_count": null,
   "metadata": {},
   "outputs": [],
   "source": [
    "opts = torch.load(ckpt_path, map_location=\"cpu\")[\"opts\"]\n",
    "opts['checkpoint_path'] = ckpt_path\n",
    "opts['device'] = \"cuda\"\n",
    "opts['model_type'] = 'stylegan2'\n",
    "net = pSp(Namespace(**opts)).eval().to(\"cuda\")"
   ]
  },
  {
   "cell_type": "code",
   "execution_count": null,
   "metadata": {},
   "outputs": [],
   "source": [
    "img_path = [x for x in imgs if x.stem == f\"{2700:07d}\"][0]\n",
    "img = Image.open(img_path).resize((256,256))\n",
    "img_t = preproc(img).to(\"cuda\")\n",
    "\n",
    "y_hat, latent = None, None\n",
    "results_batch = []\n",
    "results_latent = []\n",
    "\n",
    "with torch.no_grad():\n",
    "    _, ws = net(img_t, randomize_noise=False, return_latents=True)\n",
    "    img_pretrain = G_pretrain.synthesis(ws, noise_mode=\"const\")\n",
    "    img_finetune = G_finetune.synthesis(ws, noise_mode=\"const\")\n",
    "    img_blended = G_blended.synthesis(ws, noise_mode=\"const\")\n",
    "\n",
    "final_img = np.concatenate([img, postproc(img_pretrain[0]), postproc(img_finetune[0]), postproc(img_blended[0])], axis=1)\n",
    "Image.fromarray(final_img)"
   ]
  },
  {
   "cell_type": "code",
   "execution_count": null,
   "metadata": {},
   "outputs": [],
   "source": []
  }
 ],
 "metadata": {
  "interpreter": {
   "hash": "d4d1e4263499bec80672ea0156c357c1ee493ec2b1c70f0acce89fc37c4a6abe"
  },
  "kernelspec": {
   "display_name": "Python 3.7.7 64-bit ('base': conda)",
   "language": "python",
   "name": "python3"
  },
  "language_info": {
   "codemirror_mode": {
    "name": "ipython",
    "version": 3
   },
   "file_extension": ".py",
   "mimetype": "text/x-python",
   "name": "python",
   "nbconvert_exporter": "python",
   "pygments_lexer": "ipython3",
   "version": "3.7.7"
  },
  "orig_nbformat": 4
 },
 "nbformat": 4,
 "nbformat_minor": 2
}
